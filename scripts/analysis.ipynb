{
 "cells": [
  {
   "cell_type": "code",
   "execution_count": 2,
   "metadata": {},
   "outputs": [],
   "source": [
    "import pandas as pd\n",
    "import pickle\n",
    "import matplotlib.pyplot as plt     \n",
    "import seaborn as sns\n",
    "import sys\n",
    "sys.path.append('..')\n",
    "from src.utils import *\n",
    "import numpy as np\n",
    "import os\n",
    "import matplotlib.pyplot as plt\n",
    "import matplotlib.animation as animation\n",
    "from IPython.display import HTML\n",
    "import cv2 \n",
    "import pdb"
   ]
  },
  {
   "cell_type": "code",
   "execution_count": null,
   "metadata": {},
   "outputs": [],
   "source": [
    "path = '/home/dylangoetting/SpatialBenchmark/logs/dynanmic_0806-230209_gemini-1.5-flash'\n",
    "df = pd.read_pickle(path+'/df_results.pkl')\n",
    "df.columns"
   ]
  },
  {
   "cell_type": "code",
   "execution_count": null,
   "metadata": {},
   "outputs": [],
   "source": [
    "\n",
    "fig = plt.figure()\n",
    "ims = []\n",
    "DIR=\"/home/dylangoetting/SpatialBenchmark/logs/sucess_dynanmic_0807-000334_gemini-1.5-flash\"\n",
    "\n",
    "for i in range(39):\n",
    "    # np_img_i = out_image[i].permute(1,2,0).detach().cpu().numpy()\n",
    "    np_img_i = cv2.imread(os.path.join(DIR,f\"iter0/step{i}/image.png\"))\n",
    "    #change bgr to rgb\n",
    "    np_img_i = cv2.cvtColor(np_img_i, cv2.COLOR_BGR2RGB)\n",
    "\n",
    "    im = plt.imshow(np_img_i)\n",
    "    ims.append([im])\n",
    "\n",
    "ani = animation.ArtistAnimation(fig, ims, interval=1, blit=True)\n",
    "HTML(ani.to_jshtml())\n",
    "# ani.save('output.gif', writer='imagemagick')"
   ]
  },
  {
   "cell_type": "code",
   "execution_count": null,
   "metadata": {},
   "outputs": [],
   "source": [
    "plot_trajectory(df)"
   ]
  },
  {
   "cell_type": "code",
   "execution_count": null,
   "metadata": {},
   "outputs": [],
   "source": [
    "df['actions']"
   ]
  },
  {
   "cell_type": "code",
   "execution_count": null,
   "metadata": {},
   "outputs": [],
   "source": [
    "plot_distribution(df, 'confidence')"
   ]
  },
  {
   "cell_type": "code",
   "execution_count": null,
   "metadata": {},
   "outputs": [],
   "source": [
    "line_plot(df, 'distance_to_goal')\n"
   ]
  },
  {
   "cell_type": "code",
   "execution_count": null,
   "metadata": {},
   "outputs": [],
   "source": [
    "var = df['ground_truth'].var()\n",
    "print(var)\n",
    "df['score'] = df['score'].clip(0, 2)\n",
    "print(df[df['mse'] < var].count()[0]/df.count()[0])\n",
    "naive_score = (abs(df['ground_truth'].mean() - df['ground_truth'])/df['ground_truth']).mean()\n",
    "print(df[df['score'] < naive_score].count()[0]/df.count()[0])"
   ]
  },
  {
   "cell_type": "code",
   "execution_count": null,
   "metadata": {},
   "outputs": [],
   "source": [
    "plot_distribution(df, 'tokens_generated')"
   ]
  },
  {
   "cell_type": "code",
   "execution_count": null,
   "metadata": {},
   "outputs": [],
   "source": [
    "plot_distribution(df, 'prediction')"
   ]
  },
  {
   "cell_type": "code",
   "execution_count": null,
   "metadata": {},
   "outputs": [],
   "source": [
    "plot_groupby(df, 'confidence', 'score', std=True)"
   ]
  },
  {
   "cell_type": "code",
   "execution_count": null,
   "metadata": {},
   "outputs": [],
   "source": [
    "\n",
    "plot_groupby(df, 'scene_id', 'score', std=True)"
   ]
  },
  {
   "cell_type": "code",
   "execution_count": null,
   "metadata": {},
   "outputs": [],
   "source": [
    "plot_correlation_scatter(df, 'confidence', 'score')"
   ]
  },
  {
   "cell_type": "code",
   "execution_count": null,
   "metadata": {},
   "outputs": [],
   "source": [
    "plot_correlation_scatter(df, 'ground_truth', 'prediction')"
   ]
  },
  {
   "cell_type": "code",
   "execution_count": 33,
   "metadata": {},
   "outputs": [
    {
     "data": {
      "text/plain": [
       "14"
      ]
     },
     "execution_count": 33,
     "metadata": {},
     "output_type": "execute_result"
    }
   ],
   "source": [
    "\n",
    "len([f for f in os.listdir('../logs/') if 'EXP' in f])"
   ]
  },
  {
   "cell_type": "code",
   "execution_count": 34,
   "metadata": {},
   "outputs": [],
   "source": [
    "rows = []\n",
    "files = []\n",
    "for f in os.listdir('../logs/'):\n",
    "    if 'EXP' in f:\n",
    "        row = {}\n",
    "        try:\n",
    "            df = pd.read_pickle(f'../logs/{f}/df_results.pkl')\n",
    "            row.update(df['metadata'].loc[0])\n",
    "            # print(np.array(df['agent_location'].loc[:]))\n",
    "            # raise\n",
    "            # print(df.loc[0])\n",
    "            # if 'UPSTAIRS BEDROOM' in f:\n",
    "            #     row['task'] = 'UPSTAIRS BEDROOM'\n",
    "            # elif 'KITCHEN SINK' in f:\n",
    "            #     row['task'] = 'KITCHEN SINK'\n",
    "            # elif 'DOWNSTAIRS KITCHEN' in f:\n",
    "            #     row['task'] = 'DOWNSTAIRS KITCHEN'\n",
    "            # else:\n",
    "            #     print(f)\n",
    "            # row['history'] = f[f.index('history')+8:f.index('history')+10]\n",
    "            # row['arrows'] = type(df['actions'][0]) == np.int64\n",
    "            # # print(row['arrows'])#df['actions']\n",
    "            # row['points'] = 1 if 'points_1' in f else 0\n",
    "            # # print(f)\n",
    "            # row['font_size'] = f[f.index('font')+9:f.index('font')+12]\n",
    "            row['group'] = f'a={row[\"arrows\"]}_p={row[\"points\"]}_c={row[\"consistency\"]}'\n",
    "            # row['mask_thinking'] = 'thinking=True' in f\n",
    "            # row['prompt_timesteps'] =  'steps=True' in f\n",
    "            if row['task'] == 'UPSTAIRS BEDROOM':\n",
    "                #print(max([loc[1] for loc in df['agent_location']]))\n",
    "                row['sucess'] = max([loc[1] for loc in df['agent_location']]) > -0.05\n",
    "            elif row['task'] == 'DOWNSTAIRS KITCHEN':\n",
    "                row['sucess'] = min([loc[1] for loc in df['agent_location']]) < -2.9\n",
    "                #print(f, min([loc[1] for loc in df['agent_location']]))\n",
    "            else:\n",
    "                print(f)\n",
    "                row['sucess'] = 1 if df['distance_to_goal'].min() < 1.5 else 0\n",
    "\n",
    "            row['closest'] = df['distance_to_goal'].min()\n",
    "            if row['sucess']:\n",
    "                row['time_to_complete'] = df['distance_to_goal'].idxmin()\n",
    "            else:\n",
    "                row['time_to_complete'] = 100\n",
    "            # pdb.set_trace()\n",
    "            # print(df['actions'] in ['done', 8])\n",
    "            if row['arrows']:\n",
    "                row['finished'] = (df['actions'] == 8).idxmax()\n",
    "            else:\n",
    "                row['finished'] = (df['actions'] == 'done').idxmax()\n",
    "\n",
    "            rows.append(row)\n",
    "            files.append(f)\n",
    "        except:\n",
    "            pass\n",
    "df = pd.DataFrame(rows)\n"
   ]
  },
  {
   "cell_type": "code",
   "execution_count": 35,
   "metadata": {},
   "outputs": [
    {
     "data": {
      "text/html": [
       "<div>\n",
       "<style scoped>\n",
       "    .dataframe tbody tr th:only-of-type {\n",
       "        vertical-align: middle;\n",
       "    }\n",
       "\n",
       "    .dataframe tbody tr th {\n",
       "        vertical-align: top;\n",
       "    }\n",
       "\n",
       "    .dataframe thead th {\n",
       "        text-align: right;\n",
       "    }\n",
       "</style>\n",
       "<table border=\"1\" class=\"dataframe\">\n",
       "  <thead>\n",
       "    <tr style=\"text-align: right;\">\n",
       "      <th></th>\n",
       "      <th>task</th>\n",
       "      <th>history</th>\n",
       "      <th>points</th>\n",
       "      <th>fontsize</th>\n",
       "      <th>arrows</th>\n",
       "      <th>consistency</th>\n",
       "      <th>mask_thinking</th>\n",
       "      <th>add_timesteps_prompt</th>\n",
       "      <th>group</th>\n",
       "      <th>sucess</th>\n",
       "      <th>closest</th>\n",
       "      <th>time_to_complete</th>\n",
       "      <th>finished</th>\n",
       "    </tr>\n",
       "  </thead>\n",
       "  <tbody>\n",
       "    <tr>\n",
       "      <th>0</th>\n",
       "      <td>UPSTAIRS BEDROOM</td>\n",
       "      <td>5</td>\n",
       "      <td>1.95</td>\n",
       "      <td>3</td>\n",
       "      <td>True</td>\n",
       "      <td>3</td>\n",
       "      <td>True</td>\n",
       "      <td>True</td>\n",
       "      <td>a=True_p=1.95_c=3</td>\n",
       "      <td>True</td>\n",
       "      <td>0.004675</td>\n",
       "      <td>17</td>\n",
       "      <td>15</td>\n",
       "    </tr>\n",
       "    <tr>\n",
       "      <th>1</th>\n",
       "      <td>UPSTAIRS BEDROOM</td>\n",
       "      <td>5</td>\n",
       "      <td>1.95</td>\n",
       "      <td>3</td>\n",
       "      <td>True</td>\n",
       "      <td>3</td>\n",
       "      <td>True</td>\n",
       "      <td>True</td>\n",
       "      <td>a=True_p=1.95_c=3</td>\n",
       "      <td>True</td>\n",
       "      <td>0.004675</td>\n",
       "      <td>17</td>\n",
       "      <td>15</td>\n",
       "    </tr>\n",
       "    <tr>\n",
       "      <th>2</th>\n",
       "      <td>UPSTAIRS BEDROOM</td>\n",
       "      <td>5</td>\n",
       "      <td>1.75</td>\n",
       "      <td>3</td>\n",
       "      <td>True</td>\n",
       "      <td>3</td>\n",
       "      <td>True</td>\n",
       "      <td>True</td>\n",
       "      <td>a=True_p=1.75_c=3</td>\n",
       "      <td>False</td>\n",
       "      <td>1.204671</td>\n",
       "      <td>100</td>\n",
       "      <td>0</td>\n",
       "    </tr>\n",
       "    <tr>\n",
       "      <th>3</th>\n",
       "      <td>UPSTAIRS BEDROOM</td>\n",
       "      <td>5</td>\n",
       "      <td>1.95</td>\n",
       "      <td>3</td>\n",
       "      <td>True</td>\n",
       "      <td>3</td>\n",
       "      <td>True</td>\n",
       "      <td>True</td>\n",
       "      <td>a=True_p=1.95_c=3</td>\n",
       "      <td>True</td>\n",
       "      <td>0.004675</td>\n",
       "      <td>17</td>\n",
       "      <td>15</td>\n",
       "    </tr>\n",
       "    <tr>\n",
       "      <th>4</th>\n",
       "      <td>UPSTAIRS BEDROOM</td>\n",
       "      <td>5</td>\n",
       "      <td>1.95</td>\n",
       "      <td>3</td>\n",
       "      <td>True</td>\n",
       "      <td>1</td>\n",
       "      <td>True</td>\n",
       "      <td>True</td>\n",
       "      <td>a=True_p=1.95_c=1</td>\n",
       "      <td>True</td>\n",
       "      <td>0.004675</td>\n",
       "      <td>39</td>\n",
       "      <td>0</td>\n",
       "    </tr>\n",
       "    <tr>\n",
       "      <th>5</th>\n",
       "      <td>UPSTAIRS BEDROOM</td>\n",
       "      <td>5</td>\n",
       "      <td>1.95</td>\n",
       "      <td>3</td>\n",
       "      <td>True</td>\n",
       "      <td>3</td>\n",
       "      <td>True</td>\n",
       "      <td>True</td>\n",
       "      <td>a=True_p=1.95_c=3</td>\n",
       "      <td>True</td>\n",
       "      <td>0.004675</td>\n",
       "      <td>29</td>\n",
       "      <td>0</td>\n",
       "    </tr>\n",
       "    <tr>\n",
       "      <th>6</th>\n",
       "      <td>UPSTAIRS BEDROOM</td>\n",
       "      <td>5</td>\n",
       "      <td>1.95</td>\n",
       "      <td>3</td>\n",
       "      <td>True</td>\n",
       "      <td>1</td>\n",
       "      <td>True</td>\n",
       "      <td>True</td>\n",
       "      <td>a=True_p=1.95_c=1</td>\n",
       "      <td>False</td>\n",
       "      <td>1.009801</td>\n",
       "      <td>100</td>\n",
       "      <td>0</td>\n",
       "    </tr>\n",
       "    <tr>\n",
       "      <th>7</th>\n",
       "      <td>UPSTAIRS BEDROOM</td>\n",
       "      <td>5</td>\n",
       "      <td>1.95</td>\n",
       "      <td>3</td>\n",
       "      <td>True</td>\n",
       "      <td>1</td>\n",
       "      <td>True</td>\n",
       "      <td>True</td>\n",
       "      <td>a=True_p=1.95_c=1</td>\n",
       "      <td>False</td>\n",
       "      <td>1.195325</td>\n",
       "      <td>100</td>\n",
       "      <td>0</td>\n",
       "    </tr>\n",
       "    <tr>\n",
       "      <th>8</th>\n",
       "      <td>UPSTAIRS BEDROOM</td>\n",
       "      <td>5</td>\n",
       "      <td>1.75</td>\n",
       "      <td>3</td>\n",
       "      <td>True</td>\n",
       "      <td>3</td>\n",
       "      <td>True</td>\n",
       "      <td>True</td>\n",
       "      <td>a=True_p=1.75_c=3</td>\n",
       "      <td>False</td>\n",
       "      <td>1.395325</td>\n",
       "      <td>100</td>\n",
       "      <td>0</td>\n",
       "    </tr>\n",
       "    <tr>\n",
       "      <th>9</th>\n",
       "      <td>UPSTAIRS BEDROOM</td>\n",
       "      <td>5</td>\n",
       "      <td>1.75</td>\n",
       "      <td>3</td>\n",
       "      <td>True</td>\n",
       "      <td>3</td>\n",
       "      <td>True</td>\n",
       "      <td>True</td>\n",
       "      <td>a=True_p=1.75_c=3</td>\n",
       "      <td>False</td>\n",
       "      <td>1.252046</td>\n",
       "      <td>100</td>\n",
       "      <td>0</td>\n",
       "    </tr>\n",
       "    <tr>\n",
       "      <th>10</th>\n",
       "      <td>UPSTAIRS BEDROOM</td>\n",
       "      <td>5</td>\n",
       "      <td>1.95</td>\n",
       "      <td>3</td>\n",
       "      <td>True</td>\n",
       "      <td>1</td>\n",
       "      <td>True</td>\n",
       "      <td>True</td>\n",
       "      <td>a=True_p=1.95_c=1</td>\n",
       "      <td>False</td>\n",
       "      <td>1.279943</td>\n",
       "      <td>100</td>\n",
       "      <td>0</td>\n",
       "    </tr>\n",
       "    <tr>\n",
       "      <th>11</th>\n",
       "      <td>UPSTAIRS BEDROOM</td>\n",
       "      <td>5</td>\n",
       "      <td>1.75</td>\n",
       "      <td>3</td>\n",
       "      <td>True</td>\n",
       "      <td>3</td>\n",
       "      <td>True</td>\n",
       "      <td>True</td>\n",
       "      <td>a=True_p=1.75_c=3</td>\n",
       "      <td>True</td>\n",
       "      <td>0.004675</td>\n",
       "      <td>34</td>\n",
       "      <td>36</td>\n",
       "    </tr>\n",
       "    <tr>\n",
       "      <th>12</th>\n",
       "      <td>UPSTAIRS BEDROOM</td>\n",
       "      <td>5</td>\n",
       "      <td>1.95</td>\n",
       "      <td>3</td>\n",
       "      <td>True</td>\n",
       "      <td>1</td>\n",
       "      <td>True</td>\n",
       "      <td>True</td>\n",
       "      <td>a=True_p=1.95_c=1</td>\n",
       "      <td>False</td>\n",
       "      <td>1.195325</td>\n",
       "      <td>100</td>\n",
       "      <td>0</td>\n",
       "    </tr>\n",
       "  </tbody>\n",
       "</table>\n",
       "</div>"
      ],
      "text/plain": [
       "                task  history  points  fontsize  arrows  consistency  \\\n",
       "0   UPSTAIRS BEDROOM        5    1.95         3    True            3   \n",
       "1   UPSTAIRS BEDROOM        5    1.95         3    True            3   \n",
       "2   UPSTAIRS BEDROOM        5    1.75         3    True            3   \n",
       "3   UPSTAIRS BEDROOM        5    1.95         3    True            3   \n",
       "4   UPSTAIRS BEDROOM        5    1.95         3    True            1   \n",
       "5   UPSTAIRS BEDROOM        5    1.95         3    True            3   \n",
       "6   UPSTAIRS BEDROOM        5    1.95         3    True            1   \n",
       "7   UPSTAIRS BEDROOM        5    1.95         3    True            1   \n",
       "8   UPSTAIRS BEDROOM        5    1.75         3    True            3   \n",
       "9   UPSTAIRS BEDROOM        5    1.75         3    True            3   \n",
       "10  UPSTAIRS BEDROOM        5    1.95         3    True            1   \n",
       "11  UPSTAIRS BEDROOM        5    1.75         3    True            3   \n",
       "12  UPSTAIRS BEDROOM        5    1.95         3    True            1   \n",
       "\n",
       "    mask_thinking  add_timesteps_prompt              group  sucess   closest  \\\n",
       "0            True                  True  a=True_p=1.95_c=3    True  0.004675   \n",
       "1            True                  True  a=True_p=1.95_c=3    True  0.004675   \n",
       "2            True                  True  a=True_p=1.75_c=3   False  1.204671   \n",
       "3            True                  True  a=True_p=1.95_c=3    True  0.004675   \n",
       "4            True                  True  a=True_p=1.95_c=1    True  0.004675   \n",
       "5            True                  True  a=True_p=1.95_c=3    True  0.004675   \n",
       "6            True                  True  a=True_p=1.95_c=1   False  1.009801   \n",
       "7            True                  True  a=True_p=1.95_c=1   False  1.195325   \n",
       "8            True                  True  a=True_p=1.75_c=3   False  1.395325   \n",
       "9            True                  True  a=True_p=1.75_c=3   False  1.252046   \n",
       "10           True                  True  a=True_p=1.95_c=1   False  1.279943   \n",
       "11           True                  True  a=True_p=1.75_c=3    True  0.004675   \n",
       "12           True                  True  a=True_p=1.95_c=1   False  1.195325   \n",
       "\n",
       "    time_to_complete  finished  \n",
       "0                 17        15  \n",
       "1                 17        15  \n",
       "2                100         0  \n",
       "3                 17        15  \n",
       "4                 39         0  \n",
       "5                 29         0  \n",
       "6                100         0  \n",
       "7                100         0  \n",
       "8                100         0  \n",
       "9                100         0  \n",
       "10               100         0  \n",
       "11                34        36  \n",
       "12               100         0  "
      ]
     },
     "execution_count": 35,
     "metadata": {},
     "output_type": "execute_result"
    }
   ],
   "source": [
    "df"
   ]
  },
  {
   "cell_type": "code",
   "execution_count": 36,
   "metadata": {},
   "outputs": [
    {
     "data": {
      "text/plain": [
       "0.46153846153846156"
      ]
     },
     "execution_count": 36,
     "metadata": {},
     "output_type": "execute_result"
    }
   ],
   "source": [
    "# df.loc[29]?\n",
    "df['sucess'].mean()"
   ]
  },
  {
   "cell_type": "code",
   "execution_count": 37,
   "metadata": {},
   "outputs": [
    {
     "data": {
      "image/png": "[encoded data removed]",
      "text/plain": [
       "<Figure size 1000x600 with 1 Axes>"
      ]
     },
     "metadata": {},
     "output_type": "display_data"
    },
    {
     "data": {
      "image/png": "[encoded data removed]",
      "text/plain": [
       "<Figure size 1000x600 with 1 Axes>"
      ]
     },
     "metadata": {},
     "output_type": "display_data"
    }
   ],
   "source": [
    "vs = ['sucess', 'time_to_complete']\n",
    "groups = ['group']\n",
    "\n",
    "for var in vs:\n",
    "    for group in groups:\n",
    "        plot_groupby(df[df['arrows'] == True], group, var, std=False)\n",
    "\n",
    "#plot_groupby(df[df['task']=='KITCHEN SINK'], 'group', 'closest', std=False, title='KITCHEN')\n",
    "# plot_groupby(df[df['task']=='UPSTAIRS BEDROOM'], 'group', 'closest', std=False, title='UPSTAIRS')\n",
    "# plot_groupby(df[df['task']=='FIREPLACE'], 'group', 'closest', std=False, title='FIREPLACE')\n",
    "# plot_groupby(df, 'task', 'sucess', std=False)\n",
    "#df[df['points']==1].groupby('font_size')['sucess'].mean()"
   ]
  },
  {
   "cell_type": "code",
   "execution_count": null,
   "metadata": {},
   "outputs": [],
   "source": [
    "files[20]"
   ]
  },
  {
   "cell_type": "code",
   "execution_count": null,
   "metadata": {},
   "outputs": [],
   "source": [
    "df[df['task'] == 'KITCHEN SINK'].sort_values('closest')"
   ]
  },
  {
   "cell_type": "code",
   "execution_count": null,
   "metadata": {},
   "outputs": [],
   "source": [
    "from regex import D\n",
    "\n",
    "\n",
    "fig = plt.figure()\n",
    "ims = []\n",
    "DIR=\"/home/dylangoetting/SpatialBenchmark/logs/\" + files[20]\n",
    "\n",
    "for i in range(len(os.listdir(DIR + '/iter0'))):\n",
    "    # np_img_i = out_image[i].permute(1,2,0).detach().cpu().numpy()\n",
    "    np_img_i = cv2.imread(os.path.join(DIR,f\"iter0/step{i}/image.png\"))\n",
    "    #change bgr to rgb\n",
    "    np_img_i = cv2.cvtColor(np_img_i, cv2.COLOR_BGR2RGB)\n",
    "\n",
    "    im = plt.imshow(np_img_i)\n",
    "    ims.append([im])\n",
    "\n",
    "ani = animation.ArtistAnimation(fig, ims, interval=1, blit=True)\n",
    "HTML(ani.to_jshtml())"
   ]
  },
  {
   "cell_type": "code",
   "execution_count": null,
   "metadata": {},
   "outputs": [],
   "source": [
    "files[29]"
   ]
  },
  {
   "cell_type": "code",
   "execution_count": null,
   "metadata": {},
   "outputs": [],
   "source": [
    "\n",
    "# Filter data for tasks UPSTAIRS and KITCHEN SINK\n",
    "tasks = [\"UPSTAIRS BEDROOM\", \"KITCHEN SINK\"]\n",
    "filtered_df = df[df['task'].isin(tasks)]\n",
    "\n",
    "# Group by task, mask_thinking, and history, then calculate mean of closest\n",
    "grouped_df = filtered_df.groupby(['task', 'mask_thinking', 'history', 'prompt_timesteps'])['closest'].mean().reset_index()\n",
    "\n",
    "# Plot for each task\n",
    "for task in tasks:\n",
    "    task_df = grouped_df[grouped_df['task'] == task]\n",
    "    task_df['combo'] = task_df[['mask_thinking', 'history', 'prompt_timesteps']].apply(lambda x: f\"{x[0]} & {x[1]} & timesteps{x[2]}\", axis=1)\n",
    "    \n",
    "    plt.figure(figsize=(10, 6))\n",
    "    plt.bar(task_df['combo'], task_df['closest'])\n",
    "    plt.title(f'Mean of Closest for Task: {task}')\n",
    "    plt.xlabel('Combination of Mask Thinking and History')\n",
    "    plt.ylabel('Mean of Closest')\n",
    "    plt.xticks(rotation=45)\n",
    "    plt.grid(axis='y')\n",
    "    plt.tight_layout()\n",
    "    plt.show()\n"
   ]
  },
  {
   "cell_type": "code",
   "execution_count": null,
   "metadata": {},
   "outputs": [],
   "source": []
  }
 ],
 "metadata": {
  "kernelspec": {
   "display_name": "habitat",
   "language": "python",
   "name": "python3"
  },
  "language_info": {
   "codemirror_mode": {
    "name": "ipython",
    "version": 3
   },
   "file_extension": ".py",
   "mimetype": "text/x-python",
   "name": "python",
   "nbconvert_exporter": "python",
   "pygments_lexer": "ipython3",
   "version": "3.9.19"
  }
 },
 "nbformat": 4,
 "nbformat_minor": 2
}
